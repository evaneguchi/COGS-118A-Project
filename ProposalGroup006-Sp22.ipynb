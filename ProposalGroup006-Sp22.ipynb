{
 "cells": [
  {
   "cell_type": "markdown",
   "metadata": {},
   "source": [
    "# COGS 118A- Project Proposal"
   ]
  },
  {
   "cell_type": "markdown",
   "metadata": {},
   "source": [
    "# Names\n",
    "\n",
    "- Evan Eguchi\n",
    "- Thomas Fratantoni\n",
    "- Zachary Tulman\n",
    "- Charles Ye"
   ]
  },
  {
   "cell_type": "markdown",
   "metadata": {},
   "source": [
    "# Abstract \n",
    "Despite the probability of predicting a March Madness basketball bracket being 1 in 9.2 quintillion, many still (unsuccessfully) attempt to create a \"perfect bracket\". Our goal is to try to create a prediction model that can produce an accurate March Madness bracket to a high degree. Collegiate team data will range from the season stats and averages of each team, the rankings of each team, and even to other non-basketball stats like the distance a team has to travel to play.\n",
    "\n",
    "The first area to tackle with the data would be narrowing down which specific statistics to utilize for the model. The type of model we use will be determined later, but ultimately we will split the data up into testing and training subsets, using the training data to create our model and the test data to measure its accuracy. The most likely split will be the test data being the most recent season’s data, and the training set to be most of the previous seasons’ data.\n",
    "\n",
    "The performance of the prediction model will be measured with a subset of test brackets, which we will separate from the total population of previous brackets played. The test set will most likely consist of the latest played March Madness tournaments.\n"
   ]
  },
  {
   "cell_type": "markdown",
   "metadata": {},
   "source": [
    "# Background\n",
    "\n",
    "The March Madness Division I basketball tournament is an extremely popular sporting event that acts as the playoffs for collegiate men’s basketball. The format of the tournament is a single elimination, 68 team bracket played over the course of 3 weekends through March and April. The tournament began in 1939, initially only hosting 8 teams. As the Division I tournament grew in popularity, the number of teams also grew until in 1985 it expanded to its current 68 team layout and expanded its absurd probability of predicting a “perfect bracket” (a bracket that correctly predicts the winner of every game) <a name=\"wilco\"></a>[<sup>[1]</sup>](#wilconote). Despite the 1 in 9.2 quintillion odds, every year millions of people take a shot at filling out their own bracket, and it has become a fun tradition for March Madness enthusiasts and inexperienced basketball fans alike.\n",
    "\n",
    "Of course, many have also taken a shot at creating different algorithms to increase their chances at predicting a perfect bracket as much as they can. The most important features of this predictor algorithm seems to be the type of methodology used to run the probability algorithms, as well as the statistics used for the data. One algorithm made by Kaito Goto, which won two Solo Silver Medals at the Kaggle March Madness competition, which utilized seeding, form, efficiency, and blocks per foul in a Gradient Boosting Machine (sequential set of regressions) model <a name=\"goto\"></a>[<sup>[2]</sup>](#gotonote). The interesting thing about Goto’s model is the usage of stats. One would infer that the main statistics such as ranking, points, assists, rebounds, etc. would be used for prediction, but the chosen stats for this model seem to be much less focused on. Looking at Goto’s model, it might be a good idea to broaden our parameter search to include more obscure statistics like Goto did, in order to increase the likelihood of finding a combination of parameters with a higher predictive probability.\n",
    "\n",
    "Another machine learning algorithm, made by Adrian Pierce and Lotan Weininger, finished in the top ten percent in the Google Machine Learning competition. In their approach, the statistics utilized were the Pomeroy ranking (team rankings created by Ken Pomeroy, a leading college basketball statistician), offensive rating, defensive rating, net rating, tempo, possession time per game, and adjusted Pomeroy ranking (adjusted for non-linearity). For the method, they chose to use a logistic regression model to fit their data and create a model. Along with the pattern of different combinations of stats being used, another interesting point that Pierce and Weininger chose to elaborate was their model fine tuning. They described that they did a lot of fine tuning for the current bracket they were doing, which means that instead of making a general March Madness prediction algorithm, a fine tuned model that predicts a single year is more feasible and accurate. Intuitively, this makes sense, as each year a variety of factors play into the features and structure of each year’s unique bracket <a name=\"pierce\"></a>[<sup>[3]</sup>](#piercenote). Creating a unique prediction algorithm for the most recent year instead of a general predictor would probably be our method going forward."
   ]
  },
  {
   "cell_type": "markdown",
   "metadata": {},
   "source": [
    "# Problem Statement\n",
    "\n",
    "The problem that we are solving is to predict a perfect March Madness bracket or to predict a bracket as close to perfect as possible. Since there are so many different possibilities (9.2 quintillion possible brackets), this problem can’t be feasibly solved by just guessing. The odds are so low that even with the use of technology, it is very difficult to predict a perfect March Madness bracket. Despite the odds, in this project we will attempt to create a classification model that can accurately predict a March Madness bracket based on NCAA men’s basketball data and the results of previous March Madness tournaments."
   ]
  },
  {
   "cell_type": "markdown",
   "metadata": {},
   "source": [
    "# Data\n",
    "\n",
    "Kaggle.com has a large amount of historical NCAA men’s basketball data (available at https://www.kaggle.com/c/mens-march-mania-2022/data). This site contains decades of regular season and March Madness data, containing multiple datasets with thousands of rows each. For example, the file entitled MRegularSeasonCompactResults.csv contains 170,000 rows and 8 columns. Another dataset, MNCAATourneyDetailedResults.csv, contains 34 variables, including points, assists, field goals made, offensive rating, and more for both the winning and losing teams. It will be critical to train our model on the differences between a winning team’s stats and a losing team’s stats in order for it to classify teams effectively. The vast majority of the variables in these datasets are numeric, which will be useful since we can expect them to be easier to analyze than categorical variables. One of the main issues we will have to face when dealing with this dataset is the question of what we should and should not include in our model. We may choose to pull data from a few different datasets, in which case we will have to consider how to combine them. From a brief skim of the datasets, it appears that there are very few missing values, so cleaning should not be a huge issue."
   ]
  },
  {
   "cell_type": "markdown",
   "metadata": {},
   "source": [
    "# Proposed Solution\n",
    "\n",
    "With the above mentioned data, we propose to build a classification predictive model using historical March Madness results to predict the winner of each game and in turn, the eventual champion. We would train our classification model by comparing the statistical differences(such as offensive rating, defensive rating, country rank, distance between college and arena, etc.) between each winning team and losing team. As we further acquaint ourselves with the datasets and relevant statistics, we can later choose to pull only the most relevant data in our training model. Once we’ve created our trained model, we can then test our model using historical March Madness brackets to gauge its effectiveness. The model would be given the statistics of two teams in a historical matchup and would then predict the winner. We would then compare the predicted winner to the actual winner in the real game."
   ]
  },
  {
   "cell_type": "markdown",
   "metadata": {},
   "source": [
    "# Evaluation Metrics\n",
    "\n",
    "The accuracy of our generated brackets compared to actual March Madness results will be the main evaluation metric that we will use to determine how well our model performs. The more matches the model is able to accurately predict, the higher the accuracy of the model will be and vice versa. We will calculate accuracy by taking the total number of matches accurately predicted in a single tournament and dividing it by the total number of matches in that tournament."
   ]
  },
  {
   "cell_type": "markdown",
   "metadata": {},
   "source": [
    "# Ethics & Privacy"
   ]
  },
  {
   "cell_type": "markdown",
   "metadata": {},
   "source": [
    "Since our model will be using data from nationally televised basketball games, it is unlikely that privacy will be a major concern due to the immense popularity of the March Madness tournament. In terms of ethical implications, there is always a possibility that our model will be biased in choosing certain types of teams over others. It is important that we are cognizant of this and the impact it could have on collegiate athletes’ careers. For example, if our model found that teams with taller players were more likely to win the championship, colleges who use the model might start giving more scholarships to taller players and less to shorter players. This would limit opportunities for short players, even if they are skilled and could contribute to a winning team. We must ensure that our model is as accurate as possible in order to minimize the chance of unfairly affecting players’ opportunities. One way to do this is to only focus on team stats, which would decrease the chance of creating a model that overfits to players’ attributes. However, if our model is used by collegiate recruiters, there is no way to fully prevent them from giving scholarships to players with skills that the model favors (for instance, if the model favors team three point shooting, then recruiters might recruit more three point specialists)."
   ]
  },
  {
   "cell_type": "markdown",
   "metadata": {},
   "source": [
    "# Team Expectations "
   ]
  },
  {
   "cell_type": "markdown",
   "metadata": {},
   "source": [
    "* *Work will be split evenly among all members of the group.*\n",
    "* *We will communicate through Discord in a timely manner and check messages frequently.*\n",
    "* *We will attend all scheduled meetings or notify the group if we can’t make it to one.*"
   ]
  },
  {
   "cell_type": "markdown",
   "metadata": {},
   "source": [
    "# Project Timeline Proposal"
   ]
  },
  {
   "cell_type": "markdown",
   "metadata": {},
   "source": [
    "Replace this with something meaningful that is appropriate for your needs. It doesn't have to be something that fits this format.  It doesn't have to be set in stone... \"no battle plan survives contact with the enemy\". But you need a battle plan nonetheless, and you need to keep it updated so you understand what you are trying to accomplish, who's responsible for what, and what the expected due dates are for each item.\n",
    "\n",
    "| Meeting Date  | Meeting Time| Completed Before Meeting  | Discuss at Meeting |\n",
    "|---|---|---|---|\n",
    "| 4/21 | 8 PM | Look over proposal outline and find out what needs to be done | Assign individual work and work on proposal |\n",
    "| 5/6  |  8 PM | Look over checkpoint outline and find out what needs to be done | Determine work distribution for checkpoint and flesh out direction of project | \n",
    "| 5/13  |  8 PM |  Complete all or most of individual work required for checkpoint | Finalize checkpoint, address any questions or complications, submit | \n",
    "| 5/20  | 8 PM  | Work towards completing project | Discuss progress and find out what’s done/needs to be done. Assign new work if necessary |\n",
    "| 5/27  | 8 PM  | Work towards completing project | Final check in of individual progress, decide what needs to be worked on before submission |\n",
    "| 6/6  | 8 PM  | Finish individual work, fix any errors, clean up individual portions | Put everything together, finish potential unfinished work, make sure there are no errors and everything is clean |\n",
    "| 6/8  | Before 11:59 PM  | N/A | Submit Final Project |"
   ]
  },
  {
   "cell_type": "markdown",
   "metadata": {},
   "source": [
    "# Footnotes\n",
    "<a name=\"wilconote\"></a>1.[^](#wilco): Wilco, D. (4 Jan 2022) March Madness History - The ultimate guide. NCAA.com\n",
    "https://www.ncaa.com/news/basketball-men/article/2021-03-14/march-madness-history-ultimate-guide<br> \n",
    "<a name=\"gotonote\"></a>2.[^](#goto): Goto, K. (7 Apr 2021) Predicting March Madness Using Machine Learning. towardsdatascience.com https://towardsdatascience.com/kaggle-march-madness-silver-medal-for-two-consecutive-years-6207ff63b86c<br>\n",
    "<a name=\"piercenote\"></a>3.[^](#pierce): Pierce, A., Weininger, L. (21 Apr 2019)  How We Predicted March Madness Using Machine Learning. medium.com\n",
    "https://lotanweininger.medium.com/march-madness-machine-learning-2dbacc948874"
   ]
  }
 ],
 "metadata": {
  "kernelspec": {
   "display_name": "Python 3",
   "language": "python",
   "name": "python3"
  },
  "language_info": {
   "codemirror_mode": {
    "name": "ipython",
    "version": 3
   },
   "file_extension": ".py",
   "mimetype": "text/x-python",
   "name": "python",
   "nbconvert_exporter": "python",
   "pygments_lexer": "ipython3",
   "version": "3.7.4"
  }
 },
 "nbformat": 4,
 "nbformat_minor": 2
}
